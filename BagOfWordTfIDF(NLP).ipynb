{
  "nbformat": 4,
  "nbformat_minor": 0,
  "metadata": {
    "colab": {
      "provenance": [],
      "authorship_tag": "ABX9TyMsMTI1/qCnCPLtWvJGckQZ",
      "include_colab_link": true
    },
    "kernelspec": {
      "name": "python3",
      "display_name": "Python 3"
    },
    "language_info": {
      "name": "python"
    }
  },
  "cells": [
    {
      "cell_type": "markdown",
      "metadata": {
        "id": "view-in-github",
        "colab_type": "text"
      },
      "source": [
        "<a href=\"https://colab.research.google.com/github/Narennnnn/NLP/blob/main/BagOfWordTfIDF(NLP).ipynb\" target=\"_parent\"><img src=\"https://colab.research.google.com/assets/colab-badge.svg\" alt=\"Open In Colab\"/></a>"
      ]
    },
    {
      "cell_type": "code",
      "execution_count": 8,
      "metadata": {
        "colab": {
          "base_uri": "https://localhost:8080/"
        },
        "id": "1wwqp_Qu9BIN",
        "outputId": "6a3d7eb0-2276-4cd4-ee9e-b72fb3947316"
      },
      "outputs": [
        {
          "output_type": "stream",
          "name": "stderr",
          "text": [
            "[nltk_data] Downloading package punkt to /root/nltk_data...\n",
            "[nltk_data]   Package punkt is already up-to-date!\n",
            "[nltk_data] Downloading package stopwords to /root/nltk_data...\n",
            "[nltk_data]   Package stopwords is already up-to-date!\n",
            "[nltk_data] Downloading package wordnet to /root/nltk_data...\n",
            "[nltk_data]   Package wordnet is already up-to-date!\n"
          ]
        }
      ],
      "source": [
        "import nltk\n",
        "import re  # for regular expression\n",
        "from nltk.corpus import stopwords  # to remove stop words\n",
        "from nltk.stem.porter import PorterStemmer  # for stemming\n",
        "from nltk.stem import WordNetLemmatizer  # for lemmatization\n",
        "\n",
        "nltk.download('punkt')\n",
        "nltk.download('stopwords')\n",
        "nltk.download('wordnet')\n",
        "para =\"\"\"Narendra Modi, the 14th Prime Minister of India, has been a prominent figure in Indian politics known for his dynamic leadership and transformative vision. Born on September 17, 1950, in Vadnagar, Gujarat, Modi rose from humble beginnings to become a charismatic and influential leader. Before assuming the role of Prime Minister in 2014, he served as the Chief Minister of Gujarat for four consecutive terms, showcasing his commitment to governance and development.\n",
        "\n",
        "Modi's leadership is characterized by a focus on economic reforms, infrastructure development, and initiatives aimed at poverty alleviation. The 'Make in India' and 'Swachh Bharat Abhiyan' campaigns underscore his dedication to fostering economic growth and cleanliness. Under his leadership, India witnessed the implementation of the Goods and Services Tax (GST), a significant tax reform.\n",
        "\n",
        "Internationally, Modi has played a crucial role in strengthening India's diplomatic ties and asserting its position on the global stage. His emphasis on 'Act East' policy has enhanced India's engagement with Southeast Asian nations, contributing to regional stability.\n",
        "\n",
        "Despite facing criticism on various fronts, Narendra Modi continues to enjoy widespread popularity for his unwavering commitment to the nation's progress. His leadership style, marked by decisiveness and a hands-on approach, has left an indelible mark on Indian politics.\"\"\"\n",
        "\n",
        "ps = PorterStemmer()\n",
        "sent = nltk.sent_tokenize(para)\n",
        "lemmatizer = WordNetLemmatizer()\n",
        "corpus = []\n",
        "\n",
        "\n"
      ]
    },
    {
      "cell_type": "code",
      "source": [
        "for i in range(len(sent)):\n",
        "    r = re.sub('[^a-zA-Z]', ' ', sent[i])\n",
        "    r = r.lower()\n",
        "    words = nltk.word_tokenize(r)  # Use word_tokenize instead of split\n",
        "    r = [ps.stem(word) for word in words if not word in set(stopwords.words('english'))]\n",
        "    #r = [lemmatizer.lemmatize(word) for word in words if not word in set(stopwords.words('english'))]\n",
        "    r = ' '.join(r)\n",
        "    corpus.append(r)"
      ],
      "metadata": {
        "id": "79Foe5d69rXq"
      },
      "execution_count": 20,
      "outputs": []
    },
    {
      "cell_type": "code",
      "source": [
        "print(corpus)"
      ],
      "metadata": {
        "colab": {
          "base_uri": "https://localhost:8080/"
        },
        "id": "ObiwEGgT9YBO",
        "outputId": "da928ffb-ee65-480d-a16d-500c308d4fe0"
      },
      "execution_count": 21,
      "outputs": [
        {
          "output_type": "stream",
          "name": "stdout",
          "text": [
            "['n a r e n d r a   m o d i   t h   p r i m e   m i n i s t e r   i n d i a   p r o m i n e n t   f i g u r e   i n d i a n   p o l i t i c s   k n o w n   d y n a m i c   l e a d e r s h i p   t r a n s f o r m a t i v e   v i s i o n', 'b o r n   s e p t e m b e r   v a d n a g a r   g u j a r a t   m o d i   r o s e   h u m b l e   b e g i n n i n g   b e c o m e   c h a r i s m a t i c   i n f l u e n t i a l   l e a d e r', 'a s s u m i n g   r o l e   p r i m e   m i n i s t e r   s e r v e d   c h i e f   m i n i s t e r   g u j a r a t   f o u r   c o n s e c u t i v e   t e r m   s h o w c a s i n g   c o m m i t m e n t   g o v e r n a n c e   d e v e l o p m e n t', 'm o d i   l e a d e r s h i p   c h a r a c t e r i z e d   f o c u s   e c o n o m i c   r e f o r m   i n f r a s t r u c t u r e   d e v e l o p m e n t   i n i t i a t i v e   a i m e d   p o v e r t y   a l l e v i a t i o n', 'm a k e   i n d i a   s w a c h h   b h a r a t   a b h i y a n   c a m p a i g n   u n d e r s c o r e   d e d i c a t i o n   f o s t e r i n g   e c o n o m i c   g r o w t h   c l e a n l i n e s s', 'l e a d e r s h i p   i n d i a   w i t n e s s e d   i m p l e m e n t a t i o n   g o o d   s e r v i c e   t a x   g s t   s i g n i f i c a n t   t a x   r e f o r m', 'i n t e r n a t i o n a l l y   m o d i   p l a y e d   c r u c i a l   r o l e   s t r e n g t h e n i n g   i n d i a   d i p l o m a t i c   t i e   a s s e r t i n g   p o s i t i o n   g l o b a l   s t a g e', 'e m p h a s i s   a c t   e a s t   p o l i c y   e n h a n c e d   i n d i a   e n g a g e m e n t   s o u t h e a s t   a s i a n   n a t i o n   c o n t r i b u t i n g   r e g i o n a l   s t a b i l i t y', 'd e s p i t e   f a c i n g   c r i t i c i s m   v a r i o u s   f r o n t   n a r e n d r a   m o d i   c o n t i n u e s   e n j o y   w i d e s p r e a d   p o p u l a r i t y   u n w a v e r i n g   c o m m i t m e n t   n a t i o n   p r o g r e s s', 'l e a d e r s h i p   s t y l e   m a r k e d   d e c i s i v e n e s s   h a n d   a p p r o a c h   l e f t   i n d e l i b l e   m a r k   i n d i a n   p o l i t i c s', 'n a r e n d r a   m o d i   t h   p r i m e   m i n i s t   i n d i a   p r o m i n   f i g u r   i n d i a n   p o l i t   k n o w n   d y n a m   l e a d e r s h i p   t r a n s f o r m   v i s i o n', 'b o r n   s e p t e m b   v a d n a g a r   g u j a r a t   m o d i   r o s e   h u m b l   b e g i n   b e c o m   c h a r i s m a t   i n f l u e n t i   l e a d e r', 'a s s u m   r o l e   p r i m e   m i n i s t   s e r v   c h i e f   m i n i s t   g u j a r a t   f o u r   c o n s e c u t   t e r m   s h o w c a s   c o m m i t   g o v e r n   d e v e l o p', 'm o d i   l e a d e r s h i p   c h a r a c t e r   f o c u   e c o n o m   r e f o r m   i n f r a s t r u c t u r   d e v e l o p   i n i t i   a i m   p o v e r t i   a l l e v i', 'm a k e   i n d i a   s w a c h h   b h a r a t   a b h i y a n   c a m p a i g n   u n d e r s c o r   d e d i c   f o s t e r   e c o n o m   g r o w t h   c l e a n l i', 'l e a d e r s h i p   i n d i a   w i t   i m p l e m e n t   g o o d   s e r v i c   t a x   g s t   s i g n i f i c   t a x   r e f o r m', 'i n t e r n   m o d i   p l a y   c r u c i a l   r o l e   s t r e n g t h e n   i n d i a   d i p l o m a t   t i e   a s s e r t   p o s i t   g l o b a l   s t a g e', 'e m p h a s i   a c t   e a s t   p o l i c i   e n h a n c   i n d i a   e n g a g   s o u t h e a s t   a s i a n   n a t i o n   c o n t r i b u t   r e g i o n   s t a b i l', 'd e s p i t   f a c e   c r i t i c   v a r i o u   f r o n t   n a r e n d r a   m o d i   c o n t i n u   e n j o y   w i d e s p r e a d   p o p u l a r   u n w a v   c o m m i t   n a t i o n   p r o g r e s s', 'l e a d e r s h i p   s t y l e   m a r k   d e c i s   h a n d   a p p r o a c h   l e f t   i n d e l   m a r k   i n d i a n   p o l i t', 'narendra modi th prime minist india promin figur indian polit known dynam leadership transform vision', 'born septemb vadnagar gujarat modi rose humbl begin becom charismat influenti leader', 'assum role prime minist serv chief minist gujarat four consecut term showcas commit govern develop', 'modi leadership character focu econom reform infrastructur develop initi aim poverti allevi', 'make india swachh bharat abhiyan campaign underscor dedic foster econom growth cleanli', 'leadership india wit implement good servic tax gst signific tax reform', 'intern modi play crucial role strengthen india diplomat tie assert posit global stage', 'emphasi act east polici enhanc india engag southeast asian nation contribut region stabil', 'despit face critic variou front narendra modi continu enjoy widespread popular unwav commit nation progress', 'leadership style mark decis hand approach left indel mark indian polit']\n"
          ]
        }
      ]
    },
    {
      "cell_type": "code",
      "source": [
        "from sklearn.feature_extraction.text import CountVectorizer\n",
        "cv = CountVectorizer(max_features=100)\n",
        "dataset = cv.fit_transform(corpus).toarray()\n",
        "print(dataset)"
      ],
      "metadata": {
        "colab": {
          "base_uri": "https://localhost:8080/"
        },
        "id": "zwf8dPbp-XVg",
        "outputId": "67a79343-b065-4c28-da0b-349a95af26f6"
      },
      "execution_count": 22,
      "outputs": [
        {
          "output_type": "stream",
          "name": "stdout",
          "text": [
            "[[0 0 0 ... 0 0 0]\n",
            " [0 0 0 ... 0 0 0]\n",
            " [0 0 0 ... 0 0 0]\n",
            " ...\n",
            " [0 1 0 ... 0 0 0]\n",
            " [0 0 0 ... 1 0 1]\n",
            " [0 0 0 ... 0 0 0]]\n"
          ]
        }
      ]
    },
    {
      "cell_type": "code",
      "source": [
        "#creating TF IDF model\n",
        "from sklearn.feature_extraction.text import TfidfVectorizer\n",
        "\n",
        "tv = TfidfVectorizer()\n",
        "dataset2=tv.fit_transform(corpus).toarray()\n"
      ],
      "metadata": {
        "id": "uaXQM9k1AtM6"
      },
      "execution_count": 26,
      "outputs": []
    },
    {
      "cell_type": "code",
      "source": [
        "print(dataset2)"
      ],
      "metadata": {
        "colab": {
          "base_uri": "https://localhost:8080/"
        },
        "id": "7bkqMQ0MBS7d",
        "outputId": "0168c46a-847f-4197-91ce-036e63b618ff"
      },
      "execution_count": 27,
      "outputs": [
        {
          "output_type": "stream",
          "name": "stdout",
          "text": [
            "[[0.         0.         0.         ... 0.         0.         0.        ]\n",
            " [0.         0.         0.         ... 0.         0.         0.        ]\n",
            " [0.         0.         0.         ... 0.         0.         0.        ]\n",
            " ...\n",
            " [0.         0.2852042  0.         ... 0.         0.         0.        ]\n",
            " [0.         0.         0.         ... 0.         0.26837734 0.        ]\n",
            " [0.         0.         0.         ... 0.         0.         0.        ]]\n"
          ]
        }
      ]
    },
    {
      "cell_type": "code",
      "source": [],
      "metadata": {
        "id": "kjjDBL94AtEI"
      },
      "execution_count": null,
      "outputs": []
    }
  ]
}