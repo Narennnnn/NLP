{
  "nbformat": 4,
  "nbformat_minor": 0,
  "metadata": {
    "colab": {
      "provenance": [],
      "authorship_tag": "ABX9TyPu0tYXu8PsQJadchJJXet6",
      "include_colab_link": true
    },
    "kernelspec": {
      "name": "python3",
      "display_name": "Python 3"
    },
    "language_info": {
      "name": "python"
    }
  },
  "cells": [
    {
      "cell_type": "markdown",
      "metadata": {
        "id": "view-in-github",
        "colab_type": "text"
      },
      "source": [
        "<a href=\"https://colab.research.google.com/github/Narennnnn/NLP/blob/main/Word2Vec.ipynb\" target=\"_parent\"><img src=\"https://colab.research.google.com/assets/colab-badge.svg\" alt=\"Open In Colab\"/></a>"
      ]
    },
    {
      "cell_type": "code",
      "execution_count": 1,
      "metadata": {
        "id": "tJgTAQiDGVtq"
      },
      "outputs": [],
      "source": [
        "from gensim.models import Word2Vec\n",
        "from nltk.tokenize import word_tokenize\n",
        "from nltk.corpus import stopwords\n",
        "import nltk\n",
        "import re\n",
        "\n"
      ]
    },
    {
      "cell_type": "code",
      "source": [
        "\n",
        "nltk.download('punkt')\n",
        "nltk.download('stopwords')\n",
        "\n"
      ],
      "metadata": {
        "colab": {
          "base_uri": "https://localhost:8080/"
        },
        "id": "jdqfxHb0GmOG",
        "outputId": "52f86954-a9b7-4cc4-c441-32164a95ac6e"
      },
      "execution_count": 2,
      "outputs": [
        {
          "output_type": "stream",
          "name": "stderr",
          "text": [
            "[nltk_data] Downloading package punkt to /root/nltk_data...\n",
            "[nltk_data]   Unzipping tokenizers/punkt.zip.\n",
            "[nltk_data] Downloading package stopwords to /root/nltk_data...\n",
            "[nltk_data]   Unzipping corpora/stopwords.zip.\n"
          ]
        },
        {
          "output_type": "execute_result",
          "data": {
            "text/plain": [
              "True"
            ]
          },
          "metadata": {},
          "execution_count": 2
        }
      ]
    },
    {
      "cell_type": "code",
      "source": [
        "para = \"\"\"Narendra Modi, the 14th Prime Minister of India, has been a prominent figure in Indian politics known for his dynamic leadership and transformative vision. Born on September 17, 1950, in Vadnagar, Gujarat, Modi rose from humble beginnings to become a charismatic and influential leader. Before assuming the role of Prime Minister in 2014, he served as the Chief Minister of Gujarat for four consecutive terms, showcasing his commitment to governance and development.\n",
        "\n",
        "Modi's leadership is characterized by a focus on economic reforms, infrastructure development, and initiatives aimed at poverty alleviation. The 'Make in India' and 'Swachh Bharat Abhiyan' campaigns underscore his dedication to fostering economic growth and cleanliness. Under his leadership, India witnessed the implementation of the Goods and Services Tax (GST), a significant tax reform.\n",
        "\n",
        "Internationally, Modi has played a crucial role in strengthening India's diplomatic ties and asserting its position on the global stage. His emphasis on 'Act East' policy has enhanced India's engagement with Southeast Asian nations, contributing to regional stability.\n",
        "\n",
        "Despite facing criticism on various fronts, Narendra Modi continues to enjoy widespread popularity for his unwavering commitment to the nation's progress. His leadership style, marked by decisiveness and a hands-on approach, has left an indelible mark on Indian politics.\"\"\"\n"
      ],
      "metadata": {
        "id": "Z8VC0EwxGpRS"
      },
      "execution_count": 3,
      "outputs": []
    },
    {
      "cell_type": "code",
      "source": [
        "\n",
        "# Preprocessing\n",
        "text = re.sub('[0-9]', ' ', para)\n",
        "text = re.sub(r'\\s+', ' ', text)\n",
        "text = text.lower()\n",
        "\n",
        "sent = nltk.sent_tokenize(text)\n",
        "print(sent)\n"
      ],
      "metadata": {
        "colab": {
          "base_uri": "https://localhost:8080/"
        },
        "id": "It5jWc1aGrNF",
        "outputId": "e9c39242-bfc8-4925-ae78-c42971c532f0"
      },
      "execution_count": 5,
      "outputs": [
        {
          "output_type": "stream",
          "name": "stdout",
          "text": [
            "['narendra modi, the th prime minister of india, has been a prominent figure in indian politics known for his dynamic leadership and transformative vision.', 'born on september , , in vadnagar, gujarat, modi rose from humble beginnings to become a charismatic and influential leader.', 'before assuming the role of prime minister in , he served as the chief minister of gujarat for four consecutive terms, showcasing his commitment to governance and development.', \"modi's leadership is characterized by a focus on economic reforms, infrastructure development, and initiatives aimed at poverty alleviation.\", \"the 'make in india' and 'swachh bharat abhiyan' campaigns underscore his dedication to fostering economic growth and cleanliness.\", 'under his leadership, india witnessed the implementation of the goods and services tax (gst), a significant tax reform.', \"internationally, modi has played a crucial role in strengthening india's diplomatic ties and asserting its position on the global stage.\", \"his emphasis on 'act east' policy has enhanced india's engagement with southeast asian nations, contributing to regional stability.\", \"despite facing criticism on various fronts, narendra modi continues to enjoy widespread popularity for his unwavering commitment to the nation's progress.\", 'his leadership style, marked by decisiveness and a hands-on approach, has left an indelible mark on indian politics.']\n"
          ]
        }
      ]
    },
    {
      "cell_type": "code",
      "source": [
        "\n",
        "tokenized_sentences = [word_tokenize(sentence) for sentence in sent]\n",
        "filtered_sentences = [\n",
        "    [word for word in sentence if word not in set(stopwords.words('english'))]\n",
        "    for sentence in tokenized_sentences\n",
        "]\n",
        "\n",
        "print(filtered_sentences)"
      ],
      "metadata": {
        "colab": {
          "base_uri": "https://localhost:8080/"
        },
        "id": "KddbR8b5GwdK",
        "outputId": "518e4d05-75d3-46fa-b003-22950a6a4911"
      },
      "execution_count": 6,
      "outputs": [
        {
          "output_type": "stream",
          "name": "stdout",
          "text": [
            "[['narendra', 'modi', ',', 'th', 'prime', 'minister', 'india', ',', 'prominent', 'figure', 'indian', 'politics', 'known', 'dynamic', 'leadership', 'transformative', 'vision', '.'], ['born', 'september', ',', ',', 'vadnagar', ',', 'gujarat', ',', 'modi', 'rose', 'humble', 'beginnings', 'become', 'charismatic', 'influential', 'leader', '.'], ['assuming', 'role', 'prime', 'minister', ',', 'served', 'chief', 'minister', 'gujarat', 'four', 'consecutive', 'terms', ',', 'showcasing', 'commitment', 'governance', 'development', '.'], ['modi', \"'s\", 'leadership', 'characterized', 'focus', 'economic', 'reforms', ',', 'infrastructure', 'development', ',', 'initiatives', 'aimed', 'poverty', 'alleviation', '.'], [\"'make\", 'india', \"'\", \"'swachh\", 'bharat', 'abhiyan', \"'\", 'campaigns', 'underscore', 'dedication', 'fostering', 'economic', 'growth', 'cleanliness', '.'], ['leadership', ',', 'india', 'witnessed', 'implementation', 'goods', 'services', 'tax', '(', 'gst', ')', ',', 'significant', 'tax', 'reform', '.'], ['internationally', ',', 'modi', 'played', 'crucial', 'role', 'strengthening', 'india', \"'s\", 'diplomatic', 'ties', 'asserting', 'position', 'global', 'stage', '.'], ['emphasis', \"'act\", 'east', \"'\", 'policy', 'enhanced', 'india', \"'s\", 'engagement', 'southeast', 'asian', 'nations', ',', 'contributing', 'regional', 'stability', '.'], ['despite', 'facing', 'criticism', 'various', 'fronts', ',', 'narendra', 'modi', 'continues', 'enjoy', 'widespread', 'popularity', 'unwavering', 'commitment', 'nation', \"'s\", 'progress', '.'], ['leadership', 'style', ',', 'marked', 'decisiveness', 'hands-on', 'approach', ',', 'left', 'indelible', 'mark', 'indian', 'politics', '.']]\n"
          ]
        }
      ]
    },
    {
      "cell_type": "code",
      "source": [
        "from gensim.models import Word2Vec\n",
        "\n",
        "# Train Word2Vec model\n",
        "model = Word2Vec(sentences=filtered_sentences, min_count=1)\n",
        "words=list(model.wv.index_to_key)\n"
      ],
      "metadata": {
        "id": "e3LABLBfG-CY"
      },
      "execution_count": 10,
      "outputs": []
    },
    {
      "cell_type": "code",
      "source": [
        "v=model.wv['modi']\n",
        "v"
      ],
      "metadata": {
        "colab": {
          "base_uri": "https://localhost:8080/"
        },
        "id": "_PhSYJdUIDaE",
        "outputId": "5be6abae-a394-48db-96b4-67bf87d9fbd4"
      },
      "execution_count": 14,
      "outputs": [
        {
          "output_type": "execute_result",
          "data": {
            "text/plain": [
              "array([ 1.0821566e-04,  3.1295109e-03, -6.8098810e-03, -1.3850146e-03,\n",
              "        7.6859621e-03,  7.2972579e-03, -3.6419504e-03,  2.7426041e-03,\n",
              "       -8.3763823e-03,  6.1675892e-03, -4.6616062e-03, -3.1990253e-03,\n",
              "        9.3353437e-03,  9.2442549e-04,  7.5161783e-03, -6.1207665e-03,\n",
              "        5.1813112e-03,  9.9130925e-03, -8.4433807e-03, -5.2400990e-03,\n",
              "       -7.0156441e-03, -4.8945611e-03, -3.7705968e-03, -8.5422546e-03,\n",
              "        7.9690116e-03, -4.8683872e-03,  8.3934907e-03,  5.2752835e-03,\n",
              "       -6.5855663e-03,  3.9196154e-03,  5.4905331e-03, -7.3816036e-03,\n",
              "       -7.3525473e-03, -2.5488024e-03, -8.6389380e-03, -1.5337263e-03,\n",
              "       -4.0682117e-04,  3.2342502e-03,  1.4200528e-03, -9.3936163e-04,\n",
              "       -5.5799549e-03,  1.7139213e-03, -9.1156951e-04,  6.7690141e-03,\n",
              "        3.9963913e-03,  4.4987760e-03,  1.4276739e-03, -2.7267367e-03,\n",
              "       -4.3469630e-03, -1.0287167e-03,  1.4408558e-03, -2.6716655e-03,\n",
              "       -7.0951767e-03, -7.8200214e-03, -9.0997731e-03, -5.9467987e-03,\n",
              "       -1.8335704e-03, -4.2970539e-03, -6.4915791e-03, -3.7137757e-03,\n",
              "        4.3484210e-03, -3.7640291e-03,  8.3917929e-03,  1.5309430e-03,\n",
              "       -7.3006921e-03,  9.4990907e-03,  7.6504941e-03,  5.5611734e-03,\n",
              "       -6.9057755e-03,  5.9081339e-03,  3.9724265e-03,  5.2194260e-03,\n",
              "        4.2837337e-03,  1.9523944e-03, -3.0853068e-03,  8.3404807e-03,\n",
              "        9.5935259e-03,  3.8143657e-03, -2.8503363e-03,  3.5345678e-05,\n",
              "        1.2113411e-03, -8.4641529e-03, -8.3293281e-03, -1.7050699e-04,\n",
              "        1.2400493e-03, -5.7756207e-03, -4.6026660e-03, -7.3199328e-03,\n",
              "        8.3804941e-03,  1.3162012e-04, -4.4224341e-03,  5.7231057e-03,\n",
              "        9.1769006e-03, -4.0756185e-03,  8.0131982e-03,  5.3808307e-03,\n",
              "        5.8885827e-03,  5.0442835e-04,  8.2365097e-03, -7.0371008e-03],\n",
              "      dtype=float32)"
            ]
          },
          "metadata": {},
          "execution_count": 14
        }
      ]
    },
    {
      "cell_type": "code",
      "source": [
        "model.wv.most_similar('narendra')"
      ],
      "metadata": {
        "colab": {
          "base_uri": "https://localhost:8080/"
        },
        "id": "7GnkcBAMIfsP",
        "outputId": "9bd9431a-91c6-40be-a9c2-da095eae17a8"
      },
      "execution_count": 16,
      "outputs": [
        {
          "output_type": "execute_result",
          "data": {
            "text/plain": [
              "[('poverty', 0.2852194011211395),\n",
              " ('campaigns', 0.2399994432926178),\n",
              " ('cleanliness', 0.21103797852993011),\n",
              " ('modi', 0.19978401064872742),\n",
              " ('september', 0.19024351239204407),\n",
              " ('beginnings', 0.17288152873516083),\n",
              " ('approach', 0.16828764975070953),\n",
              " ('humble', 0.1672564595937729),\n",
              " ('contributing', 0.1546027958393097),\n",
              " ('enhanced', 0.15076899528503418)]"
            ]
          },
          "metadata": {},
          "execution_count": 16
        }
      ]
    }
  ]
}